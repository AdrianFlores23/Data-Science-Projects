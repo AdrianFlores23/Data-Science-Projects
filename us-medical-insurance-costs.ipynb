{
 "cells": [
  {
   "cell_type": "markdown",
   "metadata": {},
   "source": [
    "# U.S. Medical Insurance Costs"
   ]
  },
  {
   "cell_type": "markdown",
   "metadata": {},
   "source": [
    "## Project Overview\n",
    "This project aims to analyze medical insurance costs in the United States, focusing on identifying key demographic and lifestyle factors that affect insurance prices. By exploring this dataset, we seek to uncover insights that can help better understand the relationship between insurance costs and factors such as age, smoking habits, and geographical region.\n",
    "## Objectives\n",
    "The primary objectives of this analysis are to:\n",
    "1. *Calculate the average age of patients* - Gain insights into the age distribution of individuals in the dataset.\n",
    "2. *Identify the predominant regions* - where most individuals are located, giving a geographical perspective on the data.\n",
    "3. *Compare insurance costs between smokers and non-smokers* - Explore how lifestyle choices impact medical insurance expenses.\n",
    "4. *Analyze the average cost of insurance of individuals with at least one child* - What is the impact on cost insurance among those with family responsibilities.\n",
    "5. *Determine if it is more expensive a female insurance cost or a male insurance cost* - Comparing average cost for women and men.\n",
    "\n"
   ]
  },
  {
   "cell_type": "code",
   "execution_count": 1,
   "metadata": {},
   "outputs": [],
   "source": [
    "# Importing the .csv file and appending it's rows into a python list: \n",
    "import csv\n",
    "list_of_insurance = []\n",
    "with open('insurance.csv') as insurance_csv:\n",
    "    insurance_reader = csv.DictReader(insurance_csv)\n",
    "    for row in insurance_reader:\n",
    "        list_of_insurance.append(row)\n"
   ]
  },
  {
   "cell_type": "markdown",
   "metadata": {},
   "source": [
    "## 1. Calculating the average age of patients:"
   ]
  },
  {
   "cell_type": "code",
   "execution_count": 2,
   "metadata": {},
   "outputs": [
    {
     "name": "stdout",
     "output_type": "stream",
     "text": [
      "Average Age: 39.20702541106129\n"
     ]
    }
   ],
   "source": [
    "# Creating Function to get the average value of age\n",
    "list_of_ages = []\n",
    "age_average = 0\n",
    "\n",
    "def age_average_funct():\n",
    "    for person in list_of_insurance:\n",
    "        # Converting age value into integer and appending it to list of ages\n",
    "        list_of_ages.append(int(person['age']))\n",
    "    \n",
    "    # Calculating age average as long as there's ages left\n",
    "    if len(list_of_ages) > 0:\n",
    "        age_average = sum(list_of_ages) / len(list_of_ages)\n",
    "        return age_average\n",
    "    else:\n",
    "        return 0 \n",
    "\n",
    "# Calling function\n",
    "average_age = age_average_funct()\n",
    "print(\"Average Age:\", average_age)\n",
    "    "
   ]
  },
  {
   "cell_type": "markdown",
   "metadata": {},
   "source": [
    "## 2. Identifying the predominant regions:"
   ]
  },
  {
   "cell_type": "code",
   "execution_count": 3,
   "metadata": {},
   "outputs": [
    {
     "name": "stdout",
     "output_type": "stream",
     "text": [
      "Northeast: 324\n",
      "Northwest: 325\n",
      "Southeast: 364\n",
      "Southwest: 325\n"
     ]
    }
   ],
   "source": [
    "# Creating a list of regions:\n",
    "list_of_regions = []\n",
    "for person in list_of_insurance:\n",
    "    list_of_regions.append(person['region'])\n",
    "# Counting each region and storing them in a separate variable:\n",
    "northeast = 0\n",
    "northwest = 0\n",
    "southeast = 0\n",
    "southwest = 0\n",
    "for region in list_of_regions:\n",
    "    if region == 'northeast':\n",
    "        northeast += 1\n",
    "    if region == 'northwest':\n",
    "        northwest += 1\n",
    "    if region == 'southeast':\n",
    "        southeast += 1\n",
    "    if region == 'southwest':\n",
    "        southwest += 1\n",
    "print('Northeast: '+ str(northeast))\n",
    "print('Northwest: '+ str(northwest))\n",
    "print('Southeast: '+ str(southeast))\n",
    "print('Southwest: '+ str(southwest))\n"
   ]
  },
  {
   "cell_type": "markdown",
   "metadata": {},
   "source": [
    "## 3. Comparing insurance costs between smokers and non-smokers:"
   ]
  },
  {
   "cell_type": "code",
   "execution_count": 4,
   "metadata": {},
   "outputs": [
    {
     "name": "stdout",
     "output_type": "stream",
     "text": [
      "The average insurance cost for smoker patients is: $32050.23183153285 while the average insurance cost for non-smoker patients is: $8434.268297856202\n",
      "The difference between a smoker patient and a non-smoker patient is: $23615.963533676644\n"
     ]
    }
   ],
   "source": [
    "# Creating two lists to store smoker patients and non-smoker patients:\n",
    "list_of_smokers = []\n",
    "list_of_non_smokers = []\n",
    "# Appending to the lists the charges for each patient\n",
    "def smokers():\n",
    "    for person in list_of_insurance:\n",
    "        if person['smoker'] == 'yes':\n",
    "            list_of_smokers.append(float(person['charges']))\n",
    "        elif person['smoker'] == 'no':\n",
    "            list_of_non_smokers.append(float(person['charges']))\n",
    "smokers()\n",
    "# Creating function to calculate average insurance cost \n",
    "def smoker_avg():\n",
    "    smokers_avg = sum(list_of_smokers) / len(list_of_smokers)\n",
    "    Non_smokers_avg = sum(list_of_non_smokers) / len(list_of_non_smokers)\n",
    "    print('The average insurance cost for smoker patients is: $' + str(smokers_avg) + \" while the average insurance cost for non-smoker patients is: $\" + str(Non_smokers_avg))\n",
    "    print(\"The difference between a smoker patient and a non-smoker patient is: $\" + str(smokers_avg - Non_smokers_avg))\n",
    "smoker_avg()"
   ]
  },
  {
   "cell_type": "markdown",
   "metadata": {},
   "source": [
    "## 4. Analyze the average cost of insurance of individuals with at least one child:"
   ]
  },
  {
   "cell_type": "code",
   "execution_count": 5,
   "metadata": {},
   "outputs": [
    {
     "name": "stdout",
     "output_type": "stream",
     "text": [
      "The average insurance cost for people with at least one children is $13949.941093481675.\n",
      "The average insurance cost for people with no children is $12365.975601635888.\n",
      "On average, people with at least one child in our data pay $1583.9654918457873 more than people without children.\n"
     ]
    }
   ],
   "source": [
    "# Creating two separate lists for people with at least one child and people with no child:\n",
    "no_kids_list = []\n",
    "kids_list = []\n",
    "# Appending data to our lists:\n",
    "def kids_categorizer():\n",
    "    for person in list_of_insurance:\n",
    "        if person['children'] == '0':\n",
    "            no_kids_list.append(float(person['charges']))\n",
    "        else:\n",
    "            kids_list.append(float(person['charges']))\n",
    "kids_categorizer()\n",
    "# Creating a function that returns average cost for each list:\n",
    "def cost_avg_if_kids ():\n",
    "    avg_for_non_parents= sum(no_kids_list) / len(no_kids_list)\n",
    "    avg_for_parents =sum(kids_list) / len(kids_list)\n",
    "    difference = avg_for_parents - avg_for_non_parents\n",
    "    print('The average insurance cost for people with at least one children is $' + str(avg_for_parents) + '.')\n",
    "    print('The average insurance cost for people with no children is $' + str(avg_for_non_parents)+ '.')\n",
    "    print('On average, people with at least one child in our data pay $' +str(difference)+ ' more than people without children.')\n",
    "cost_avg_if_kids()\n",
    "\n",
    "\n"
   ]
  },
  {
   "cell_type": "markdown",
   "metadata": {},
   "source": [
    "## 5. Determine if it is more expensive a female insurance cost or a male insurance cost:"
   ]
  },
  {
   "cell_type": "code",
   "execution_count": 6,
   "metadata": {},
   "outputs": [
    {
     "name": "stdout",
     "output_type": "stream",
     "text": [
      "The average insurance cost for female patients is $12569.578843835347.\n",
      "The average insurance cost for male patients is $13956.751177721893.\n",
      "On average, male patients in our data pay $1387.1723338865468 more than female patients.\n"
     ]
    }
   ],
   "source": [
    "#Lists to store female and male patients\n",
    "women= []\n",
    "men=[]\n",
    "#function appends data to our lists:\n",
    "def sex_function():\n",
    "    for person in list_of_insurance:\n",
    "        if person['sex'] == 'female':\n",
    "            women.append(float(person['charges']))\n",
    "        elif person['sex'] == 'male':\n",
    "            men.append(float(person['charges']))\n",
    "sex_function()\n",
    "#Function returns the average insurance cost for female patients and male patients\n",
    "def avg_for_sex():    \n",
    "    avg_charges_women = sum(women) / len(women)\n",
    "    avg_charges_men = sum(men) / len(men)\n",
    "    difference_wm = avg_charges_men - avg_charges_women\n",
    "    print('The average insurance cost for female patients is $' + str(avg_charges_women) + '.')\n",
    "    print('The average insurance cost for male patients is $' + str(avg_charges_men)+ '.')\n",
    "    print('On average, male patients in our data pay $' +str(difference_wm)+ ' more than female patients.')\n",
    "avg_for_sex()\n"
   ]
  },
  {
   "cell_type": "markdown",
   "metadata": {},
   "source": [
    "# Key Findings\n",
    "## After completing an in-depth analysis of the patient data, several key insights have emerged. These findings provide a clearer understanding of the demographic trends, cost differentials based on specific characteristics, and potential implications for cost management.\n",
    "\n",
    "### 1.- Average Patient Age\n",
    "The average age of patients across the dataset is 39 years old. This insight highlights that the typical patient profile leans toward a middle-aged demographic, which may influence healthcare needs and associated costs due to age-related health risks.\n",
    "### 2.- Regional Concentration of Patients\n",
    "The Southeast region is the most represented in the dataset, with a total of 364 records. This dominance suggests a regional trend that could indicate a higher demand for health services or varying health risk factors prevalent in this area compared to others. This insight may prompt further exploration into environmental or lifestyle factors unique to the Southeast region.\n",
    "### 3.- Impact of Smoking on Insurance Costs\n",
    "A significant cost disparity is observed between smokers and non-smokers. The average cost difference attributed to smoking status is approximately $23,615.96. This substantial difference underscores the economic impact of smoking on healthcare costs, suggesting that targeted health interventions could not only improve health outcomes but potentially reduce costs for both insurers and patients.\n",
    "### 4.- Effect of Having Children on Insurance Costs\n",
    "Patients with children incur $1,583.96 more on average in insurance costs compared to those without children. While this difference is less pronounced than other factors, it may reflect additional healthcare requirements or a correlation with age-related health conditions common among individuals with dependents.\n",
    "### 5.- Gender-Based Cost Differences\n",
    "On average, male patients pay $1,387.17 more in insurance costs than female patients. This gender-based cost differential could reflect differing risk profiles, healthcare usage patterns, or other factors tied to gender, warranting further investigation to identify the underlying causes.\n"
   ]
  },
  {
   "cell_type": "markdown",
   "metadata": {},
   "source": [
    "# Conclusion\n",
    "This analysis provides valuable insights into factors that influence insurance costs among different patient demographics. Key findings revealed that age, smoking status, and gender significantly affect average costs, with smoking status leading to the highest increase in expenses. The data also underscores a regional concentration of patients in the Southeast, which may signal the need for targeted health programs and regional policy adjustments.\n",
    "\n",
    "These insights suggest opportunities for strategic interventions that can help reduce insurance costs and improve patient outcomes. For instance, promoting smoking cessation programs or offering family-oriented insurance plans could mitigate some of the costs associated with these high-impact factors. Additionally, understanding and addressing regional trends can enable insurers to better serve concentrated demographics, potentially reducing costs over time.\n",
    "\n",
    "By leveraging these findings, stakeholders can design more tailored, cost-effective insurance solutions that respond to the unique needs of different patient groups, ultimately fostering a more efficient and responsive healthcare system. Further analysis could deepen our understanding of these trends and explore additional factors that may influence insurance costs.\n",
    "\n",
    "\n",
    "\n",
    "\n",
    "\n",
    "\n",
    "\n"
   ]
  },
  {
   "cell_type": "markdown",
   "metadata": {},
   "source": [
    "## This project is part of my GitHub portfolio, demonstrating proficiency in Python, data analysis, and visual storytelling."
   ]
  }
 ],
 "metadata": {
  "kernelspec": {
   "display_name": "Python 3",
   "language": "python",
   "name": "python3"
  },
  "language_info": {
   "codemirror_mode": {
    "name": "ipython",
    "version": 3
   },
   "file_extension": ".py",
   "mimetype": "text/x-python",
   "name": "python",
   "nbconvert_exporter": "python",
   "pygments_lexer": "ipython3",
   "version": "3.13.0"
  }
 },
 "nbformat": 4,
 "nbformat_minor": 4
}
